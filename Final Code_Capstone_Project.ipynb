{
 "cells": [
  {
   "cell_type": "code",
   "execution_count": 53,
   "id": "6af0275d",
   "metadata": {},
   "outputs": [],
   "source": [
    "# Import Lablleries\n",
    "import pandas as pd\n",
    "import numpy as np\n",
    "import re\n",
    "from sklearn.model_selection import train_test_split\n",
    "from sklearn.feature_extraction.text import TfidfVectorizer"
   ]
  },
  {
   "cell_type": "code",
   "execution_count": 54,
   "id": "02e46e72",
   "metadata": {},
   "outputs": [
    {
     "data": {
      "text/html": [
       "<div>\n",
       "<style scoped>\n",
       "    .dataframe tbody tr th:only-of-type {\n",
       "        vertical-align: middle;\n",
       "    }\n",
       "\n",
       "    .dataframe tbody tr th {\n",
       "        vertical-align: top;\n",
       "    }\n",
       "\n",
       "    .dataframe thead th {\n",
       "        text-align: right;\n",
       "    }\n",
       "</style>\n",
       "<table border=\"1\" class=\"dataframe\">\n",
       "  <thead>\n",
       "    <tr style=\"text-align: right;\">\n",
       "      <th></th>\n",
       "      <th>target</th>\n",
       "      <th>ids</th>\n",
       "      <th>date</th>\n",
       "      <th>flag</th>\n",
       "      <th>user</th>\n",
       "      <th>text</th>\n",
       "    </tr>\n",
       "  </thead>\n",
       "  <tbody>\n",
       "    <tr>\n",
       "      <th>0</th>\n",
       "      <td>1</td>\n",
       "      <td>1467822272</td>\n",
       "      <td>Mon Apr 06 22:22:45 PDT 2009</td>\n",
       "      <td>NO_QUERY</td>\n",
       "      <td>ersle</td>\n",
       "      <td>I LOVE @Health4UandPets u guys r the best!!</td>\n",
       "    </tr>\n",
       "    <tr>\n",
       "      <th>1</th>\n",
       "      <td>1</td>\n",
       "      <td>1467822273</td>\n",
       "      <td>Mon Apr 06 22:22:45 PDT 2009</td>\n",
       "      <td>NO_QUERY</td>\n",
       "      <td>becca210</td>\n",
       "      <td>im meeting up with one of my besties tonight! ...</td>\n",
       "    </tr>\n",
       "    <tr>\n",
       "      <th>2</th>\n",
       "      <td>1</td>\n",
       "      <td>1467822283</td>\n",
       "      <td>Mon Apr 06 22:22:46 PDT 2009</td>\n",
       "      <td>NO_QUERY</td>\n",
       "      <td>Wingman29</td>\n",
       "      <td>@DaRealSunisaKim Thanks for the Twitter add, S...</td>\n",
       "    </tr>\n",
       "    <tr>\n",
       "      <th>3</th>\n",
       "      <td>1</td>\n",
       "      <td>1467822287</td>\n",
       "      <td>Mon Apr 06 22:22:46 PDT 2009</td>\n",
       "      <td>NO_QUERY</td>\n",
       "      <td>katarinka</td>\n",
       "      <td>Being sick can be really cheap when it hurts t...</td>\n",
       "    </tr>\n",
       "    <tr>\n",
       "      <th>4</th>\n",
       "      <td>1</td>\n",
       "      <td>1467822293</td>\n",
       "      <td>Mon Apr 06 22:22:46 PDT 2009</td>\n",
       "      <td>NO_QUERY</td>\n",
       "      <td>_EmilyYoung</td>\n",
       "      <td>@LovesBrooklyn2 he has that effect on everyone</td>\n",
       "    </tr>\n",
       "  </tbody>\n",
       "</table>\n",
       "</div>"
      ],
      "text/plain": [
       "   target         ids                          date      flag         user  \\\n",
       "0       1  1467822272  Mon Apr 06 22:22:45 PDT 2009  NO_QUERY        ersle   \n",
       "1       1  1467822273  Mon Apr 06 22:22:45 PDT 2009  NO_QUERY     becca210   \n",
       "2       1  1467822283  Mon Apr 06 22:22:46 PDT 2009  NO_QUERY    Wingman29   \n",
       "3       1  1467822287  Mon Apr 06 22:22:46 PDT 2009  NO_QUERY    katarinka   \n",
       "4       1  1467822293  Mon Apr 06 22:22:46 PDT 2009  NO_QUERY  _EmilyYoung   \n",
       "\n",
       "                                                text  \n",
       "0       I LOVE @Health4UandPets u guys r the best!!   \n",
       "1  im meeting up with one of my besties tonight! ...  \n",
       "2  @DaRealSunisaKim Thanks for the Twitter add, S...  \n",
       "3  Being sick can be really cheap when it hurts t...  \n",
       "4    @LovesBrooklyn2 he has that effect on everyone   "
      ]
     },
     "execution_count": 54,
     "metadata": {},
     "output_type": "execute_result"
    }
   ],
   "source": [
    "# Load the Sentiment140 dataset\n",
    "Twitter_dataset = pd.read_csv(\"E:\\\\Downloads\\\\Sentiment140.csv\", encoding='ISO-8859-1', \n",
    "                              names=['target', 'ids', 'date', 'flag', 'user', 'text'])\n",
    "\n",
    "# Dataset head\n",
    "Twitter_dataset.head()"
   ]
  },
  {
   "cell_type": "code",
   "execution_count": 55,
   "id": "91828b71",
   "metadata": {},
   "outputs": [
    {
     "data": {
      "text/plain": [
       "(10000, 6)"
      ]
     },
     "execution_count": 55,
     "metadata": {},
     "output_type": "execute_result"
    }
   ],
   "source": [
    "# Shape of the dataset\n",
    "Twitter_dataset.shape"
   ]
  },
  {
   "cell_type": "code",
   "execution_count": 56,
   "id": "b9d0ef26",
   "metadata": {},
   "outputs": [
    {
     "name": "stdout",
     "output_type": "stream",
     "text": [
      "<class 'pandas.core.frame.DataFrame'>\n",
      "RangeIndex: 10000 entries, 0 to 9999\n",
      "Data columns (total 6 columns):\n",
      " #   Column  Non-Null Count  Dtype \n",
      "---  ------  --------------  ----- \n",
      " 0   target  10000 non-null  int64 \n",
      " 1   ids     10000 non-null  int64 \n",
      " 2   date    10000 non-null  object\n",
      " 3   flag    10000 non-null  object\n",
      " 4   user    10000 non-null  object\n",
      " 5   text    10000 non-null  object\n",
      "dtypes: int64(2), object(4)\n",
      "memory usage: 468.9+ KB\n"
     ]
    }
   ],
   "source": [
    "# information of dataset\n",
    "Twitter_dataset.info()"
   ]
  },
  {
   "cell_type": "code",
   "execution_count": 57,
   "id": "b391abdb",
   "metadata": {},
   "outputs": [
    {
     "data": {
      "text/plain": [
       "target    0\n",
       "ids       0\n",
       "date      0\n",
       "flag      0\n",
       "user      0\n",
       "text      0\n",
       "dtype: int64"
      ]
     },
     "execution_count": 57,
     "metadata": {},
     "output_type": "execute_result"
    }
   ],
   "source": [
    "# see any null values are present in the dataset which is not good for the model building\n",
    "Twitter_dataset.isnull().sum()"
   ]
  },
  {
   "cell_type": "code",
   "execution_count": 58,
   "id": "dd2c0ae0",
   "metadata": {},
   "outputs": [
    {
     "data": {
      "text/plain": [
       "array([1, 0], dtype=int64)"
      ]
     },
     "execution_count": 58,
     "metadata": {},
     "output_type": "execute_result"
    }
   ],
   "source": [
    "# Indentifing unique vlaues in the dataset\n",
    "Twitter_dataset[\"target\"].unique()"
   ]
  },
  {
   "cell_type": "code",
   "execution_count": 59,
   "id": "f4d0a3ec",
   "metadata": {},
   "outputs": [
    {
     "data": {
      "text/plain": [
       "1    5000\n",
       "0    5000\n",
       "Name: target, dtype: int64"
      ]
     },
     "execution_count": 59,
     "metadata": {},
     "output_type": "execute_result"
    }
   ],
   "source": [
    "# Numerifying unique entities in the 'target' column of dataset\n",
    "Twitter_dataset[\"target\"].value_counts()"
   ]
  },
  {
   "cell_type": "code",
   "execution_count": 60,
   "id": "e30f6574",
   "metadata": {},
   "outputs": [],
   "source": [
    "# Replace entity 4 with 1\n",
    "Twitter_dataset[\"target\"] = Twitter_dataset[\"target\"].replace(4, 1)"
   ]
  },
  {
   "cell_type": "code",
   "execution_count": 61,
   "id": "5c3725c2",
   "metadata": {},
   "outputs": [
    {
     "data": {
      "text/plain": [
       "array([1, 0], dtype=int64)"
      ]
     },
     "execution_count": 61,
     "metadata": {},
     "output_type": "execute_result"
    }
   ],
   "source": [
    "# Checking entity 4 has changed with 1 or not\n",
    "Twitter_dataset[\"target\"].unique()"
   ]
  },
  {
   "cell_type": "code",
   "execution_count": 62,
   "id": "a7e0db89",
   "metadata": {},
   "outputs": [
    {
     "data": {
      "text/html": [
       "<div>\n",
       "<style scoped>\n",
       "    .dataframe tbody tr th:only-of-type {\n",
       "        vertical-align: middle;\n",
       "    }\n",
       "\n",
       "    .dataframe tbody tr th {\n",
       "        vertical-align: top;\n",
       "    }\n",
       "\n",
       "    .dataframe thead th {\n",
       "        text-align: right;\n",
       "    }\n",
       "</style>\n",
       "<table border=\"1\" class=\"dataframe\">\n",
       "  <thead>\n",
       "    <tr style=\"text-align: right;\">\n",
       "      <th></th>\n",
       "      <th>target</th>\n",
       "      <th>ids</th>\n",
       "      <th>date</th>\n",
       "      <th>flag</th>\n",
       "      <th>user</th>\n",
       "      <th>text</th>\n",
       "    </tr>\n",
       "  </thead>\n",
       "  <tbody>\n",
       "    <tr>\n",
       "      <th>0</th>\n",
       "      <td>1</td>\n",
       "      <td>1467822272</td>\n",
       "      <td>Mon Apr 06 22:22:45 PDT 2009</td>\n",
       "      <td>NO_QUERY</td>\n",
       "      <td>ersle</td>\n",
       "      <td>I LOVE @Health4UandPets u guys r the best!!</td>\n",
       "    </tr>\n",
       "    <tr>\n",
       "      <th>1</th>\n",
       "      <td>1</td>\n",
       "      <td>1467822273</td>\n",
       "      <td>Mon Apr 06 22:22:45 PDT 2009</td>\n",
       "      <td>NO_QUERY</td>\n",
       "      <td>becca210</td>\n",
       "      <td>im meeting up with one of my besties tonight! ...</td>\n",
       "    </tr>\n",
       "    <tr>\n",
       "      <th>2</th>\n",
       "      <td>1</td>\n",
       "      <td>1467822283</td>\n",
       "      <td>Mon Apr 06 22:22:46 PDT 2009</td>\n",
       "      <td>NO_QUERY</td>\n",
       "      <td>Wingman29</td>\n",
       "      <td>@DaRealSunisaKim Thanks for the Twitter add, S...</td>\n",
       "    </tr>\n",
       "    <tr>\n",
       "      <th>3</th>\n",
       "      <td>1</td>\n",
       "      <td>1467822287</td>\n",
       "      <td>Mon Apr 06 22:22:46 PDT 2009</td>\n",
       "      <td>NO_QUERY</td>\n",
       "      <td>katarinka</td>\n",
       "      <td>Being sick can be really cheap when it hurts t...</td>\n",
       "    </tr>\n",
       "    <tr>\n",
       "      <th>4</th>\n",
       "      <td>1</td>\n",
       "      <td>1467822293</td>\n",
       "      <td>Mon Apr 06 22:22:46 PDT 2009</td>\n",
       "      <td>NO_QUERY</td>\n",
       "      <td>_EmilyYoung</td>\n",
       "      <td>@LovesBrooklyn2 he has that effect on everyone</td>\n",
       "    </tr>\n",
       "  </tbody>\n",
       "</table>\n",
       "</div>"
      ],
      "text/plain": [
       "   target         ids                          date      flag         user  \\\n",
       "0       1  1467822272  Mon Apr 06 22:22:45 PDT 2009  NO_QUERY        ersle   \n",
       "1       1  1467822273  Mon Apr 06 22:22:45 PDT 2009  NO_QUERY     becca210   \n",
       "2       1  1467822283  Mon Apr 06 22:22:46 PDT 2009  NO_QUERY    Wingman29   \n",
       "3       1  1467822287  Mon Apr 06 22:22:46 PDT 2009  NO_QUERY    katarinka   \n",
       "4       1  1467822293  Mon Apr 06 22:22:46 PDT 2009  NO_QUERY  _EmilyYoung   \n",
       "\n",
       "                                                text  \n",
       "0       I LOVE @Health4UandPets u guys r the best!!   \n",
       "1  im meeting up with one of my besties tonight! ...  \n",
       "2  @DaRealSunisaKim Thanks for the Twitter add, S...  \n",
       "3  Being sick can be really cheap when it hurts t...  \n",
       "4    @LovesBrooklyn2 he has that effect on everyone   "
      ]
     },
     "execution_count": 62,
     "metadata": {},
     "output_type": "execute_result"
    }
   ],
   "source": [
    "# Checking the head of dataset\n",
    "Twitter_dataset.head()"
   ]
  },
  {
   "cell_type": "code",
   "execution_count": 63,
   "id": "04f25454",
   "metadata": {},
   "outputs": [
    {
     "data": {
      "text/plain": [
       "0                                    love u guy r best\n",
       "1        im meet one besti tonight cant wait girl talk\n",
       "2    thank twitter add sunisa got meet hin show dc ...\n",
       "3    sick realli cheap hurt much eat real food plu ...\n",
       "4                                    ha effect everyon\n",
       "Name: cleaned_text, dtype: object"
      ]
     },
     "execution_count": 63,
     "metadata": {},
     "output_type": "execute_result"
    }
   ],
   "source": [
    "# Cleaning \"text\" column by removing special characters\n",
    "import nltk\n",
    "st = nltk.PorterStemmer()\n",
    "lm = nltk.WordNetLemmatizer()\n",
    "from nltk.corpus import stopwords\n",
    "import string\n",
    "\n",
    "# Define stopwords\n",
    "stop_words = set(stopwords.words('english'))\n",
    "english_punctuations = string.punctuation\n",
    "punctuations_list = english_punctuations\n",
    "\n",
    "def clean_text(text):\n",
    "    \n",
    "    # Convert text to lowercase\n",
    "    text = text.lower()\n",
    "    \n",
    "    # Remove '@name' mentions\n",
    "    text = re.sub(r'@[A-Za-z0-9_]+', '', text)\n",
    "    \n",
    "    # Remove URLs\n",
    "    text = re.sub(r'((www.[^s]+)|(https?://[^s]+))', ' ', text)\n",
    "    \n",
    "    # Remove numbers\n",
    "    text = re.sub(r'[0-9]+', '', text)\n",
    "    \n",
    "    # Remove punctuation\n",
    "    translator = str.maketrans('', '', punctuations_list)\n",
    "    text = text.translate(translator)\n",
    "    \n",
    "    # Applying lemmatizer\n",
    "    text = [lm.lemmatize(word) for word in text.split()]\n",
    "    \n",
    "    # Applying stemming and removing stopwords\n",
    "    text = [st.stem(word) for word in text if word.lower() not in stop_words]\n",
    "    \n",
    "    # Remove stopwords\n",
    "    text = \" \".join(text)\n",
    "    \n",
    "          \n",
    "    return text\n",
    "\n",
    "\n",
    "# Apply the cleaning function to 'text' column\n",
    "Twitter_dataset['cleaned_text'] = Twitter_dataset['text'].apply(lambda x: clean_text(x))\n",
    "Twitter_dataset['cleaned_text'].head()"
   ]
  },
  {
   "cell_type": "code",
   "execution_count": 64,
   "id": "b6348af5",
   "metadata": {},
   "outputs": [],
   "source": [
    "# Assigning X values to \"target\" column and Y = values to \"Text\" column\n",
    "Y = Twitter_dataset['target']\n",
    "X = Twitter_dataset['cleaned_text']"
   ]
  },
  {
   "cell_type": "code",
   "execution_count": 65,
   "id": "1799dcdc",
   "metadata": {
    "scrolled": true
   },
   "outputs": [
    {
     "name": "stdout",
     "output_type": "stream",
     "text": [
      "0                                       love u guy r best\n",
      "1           im meet one besti tonight cant wait girl talk\n",
      "2       thank twitter add sunisa got meet hin show dc ...\n",
      "3       sick realli cheap hurt much eat real food plu ...\n",
      "4                                       ha effect everyon\n",
      "                              ...                        \n",
      "9995                                  friend broke promis\n",
      "9996                                      fine thank tire\n",
      "9997                           tri keep eye opendamn bake\n",
      "9998                                            hell snow\n",
      "9999    gisburn great nice littl singl track tri new b...\n",
      "Name: cleaned_text, Length: 10000, dtype: object\n",
      "0       1\n",
      "1       1\n",
      "2       1\n",
      "3       1\n",
      "4       1\n",
      "       ..\n",
      "9995    0\n",
      "9996    0\n",
      "9997    0\n",
      "9998    0\n",
      "9999    0\n",
      "Name: target, Length: 10000, dtype: int64\n"
     ]
    }
   ],
   "source": [
    "# Print X and Y values\n",
    "print(X)\n",
    "print(Y)"
   ]
  },
  {
   "cell_type": "code",
   "execution_count": 66,
   "id": "244f6821",
   "metadata": {},
   "outputs": [],
   "source": [
    "# Splitting Data Into Train and Test Subsets\n",
    "from sklearn.model_selection import train_test_split \n",
    "# Separating the 80% data for training data and 20% for testing data\n",
    "X_train, X_test, y_train, y_test = train_test_split(X, Y, test_size = 0.2, stratify= Y, random_state =20)"
   ]
  },
  {
   "cell_type": "code",
   "execution_count": 67,
   "id": "12b03d94",
   "metadata": {},
   "outputs": [
    {
     "name": "stdout",
     "output_type": "stream",
     "text": [
      "(10000,) (8000,) (2000,)\n"
     ]
    }
   ],
   "source": [
    "# Checking shape of training and testing data\n",
    "print(X.shape, X_train.shape, X_test.shape)"
   ]
  },
  {
   "cell_type": "code",
   "execution_count": 68,
   "id": "684f03e2",
   "metadata": {},
   "outputs": [],
   "source": [
    "# Transforming the Dataset Using TF-IDF Vectorizer\n",
    "# Fit the TF-IDF Vectorizer\n",
    "# Using embedding technique to converting the word to vectors\n",
    "from sklearn.feature_extraction.text import TfidfVectorizer\n",
    "vectorizer = TfidfVectorizer()\n",
    "X_train = vectorizer.fit_transform(X_train)\n",
    "X_test = vectorizer.transform(X_test)"
   ]
  },
  {
   "cell_type": "code",
   "execution_count": 69,
   "id": "74bb3f75",
   "metadata": {},
   "outputs": [
    {
     "name": "stdout",
     "output_type": "stream",
     "text": [
      "  (0, 2113)\t0.3692046151584821\n",
      "  (0, 5665)\t0.3502741832265488\n",
      "  (0, 1466)\t0.3826359703643488\n",
      "  (0, 2312)\t0.19741727740983456\n",
      "  (0, 616)\t0.24086474830381494\n",
      "  (0, 7227)\t0.3398560147461265\n",
      "  (0, 8105)\t0.30907702968808565\n",
      "  (0, 1858)\t0.35878644667805976\n",
      "  (0, 4123)\t0.15790057343415645\n",
      "  (0, 4990)\t0.30907702968808565\n",
      "  (0, 8750)\t0.19333033328262275\n",
      "  (1, 565)\t0.28987129984902194\n",
      "  (1, 9728)\t0.30113797629793115\n",
      "  (1, 4952)\t0.21190376883934461\n",
      "  (1, 2819)\t0.45550101377398095\n",
      "  (1, 2983)\t0.41208132126125785\n",
      "  (1, 7501)\t0.3410408079942464\n",
      "  (1, 4328)\t0.5355243410973864\n",
      "  (2, 2336)\t0.293963460490253\n",
      "  (2, 8834)\t0.20235781054769186\n",
      "  (2, 7415)\t0.22074460994176484\n",
      "  (2, 8726)\t0.27201792577602135\n",
      "  (2, 3299)\t0.15469399618915772\n",
      "  (2, 8635)\t0.3367569666721745\n",
      "  (2, 8671)\t0.2050443985765353\n",
      "  :\t:\n",
      "  (7997, 9322)\t0.37367110124225594\n",
      "  (7997, 9300)\t0.2983475987466222\n",
      "  (7997, 2980)\t0.30601218680882114\n",
      "  (7997, 121)\t0.3153928844599081\n",
      "  (7997, 5948)\t0.23511791892887646\n",
      "  (7997, 5163)\t0.24065734745315928\n",
      "  (7997, 6481)\t0.33805167598038366\n",
      "  (7997, 9760)\t0.15885352808682718\n",
      "  (7997, 4123)\t0.14217638552328662\n",
      "  (7998, 8826)\t0.39779354051199656\n",
      "  (7998, 5263)\t0.35963778283152276\n",
      "  (7998, 3558)\t0.3044420540081233\n",
      "  (7998, 7521)\t0.3398369229956167\n",
      "  (7998, 5472)\t0.2270335281008904\n",
      "  (7998, 9567)\t0.2338807906959977\n",
      "  (7998, 6720)\t0.3545271209074882\n",
      "  (7998, 7678)\t0.3436211726310127\n",
      "  (7998, 3404)\t0.19952690004007562\n",
      "  (7998, 1278)\t0.21219336238090125\n",
      "  (7998, 616)\t0.2634395984874722\n",
      "  (7999, 803)\t0.5849651195823813\n",
      "  (7999, 5397)\t0.4977132786376781\n",
      "  (7999, 6383)\t0.4581493416365373\n",
      "  (7999, 1618)\t0.36395231545363044\n",
      "  (7999, 4952)\t0.2602598585522782\n",
      "  (0, 9728)\t0.2964992751671545\n",
      "  (0, 8679)\t0.2247255003838273\n",
      "  (0, 7544)\t0.33578744738814753\n",
      "  (0, 6661)\t0.398996262536211\n",
      "  (0, 5367)\t0.22759772849605428\n",
      "  (0, 4551)\t0.3707605533213765\n",
      "  (0, 594)\t0.2990437904384591\n",
      "  (0, 535)\t0.46894247440266906\n",
      "  (0, 247)\t0.3017234746366975\n",
      "  (1, 9559)\t0.3725433573150224\n",
      "  (1, 9528)\t0.31504795774811856\n",
      "  (1, 7060)\t0.4957559256470691\n",
      "  (1, 6982)\t0.5067846980929456\n",
      "  (1, 3911)\t0.300641695716169\n",
      "  (1, 616)\t0.3120724017070399\n",
      "  (1, 604)\t0.2675386889658344\n",
      "  (2, 8230)\t0.2853522774691595\n",
      "  (2, 7756)\t0.3587913895835652\n",
      "  (2, 6870)\t0.3752202132342444\n",
      "  (2, 6732)\t0.3367224546685441\n",
      "  (2, 4952)\t0.20190416594190758\n",
      "  (2, 3437)\t0.37056653318074706\n",
      "  (2, 2608)\t0.3861155729528963\n",
      "  (2, 1572)\t0.4090642917464474\n",
      "  (2, 1278)\t0.20289632428714752\n",
      "  :\t:\n",
      "  (1997, 1825)\t0.7677748455180952\n",
      "  (1998, 8679)\t0.18897479947449403\n",
      "  (1998, 8618)\t0.2683092652662181\n",
      "  (1998, 7597)\t0.33052412022404287\n",
      "  (1998, 5778)\t0.2988207440893064\n",
      "  (1998, 4328)\t0.22169651459040518\n",
      "  (1998, 4123)\t0.28699012031621546\n",
      "  (1998, 2890)\t0.18684882952637444\n",
      "  (1998, 2687)\t0.2231724461567953\n",
      "  (1998, 1742)\t0.3554631761077761\n",
      "  (1998, 1618)\t0.24534975225169556\n",
      "  (1998, 887)\t0.306112136386955\n",
      "  (1998, 709)\t0.39434025027849035\n",
      "  (1998, 287)\t0.20437242743725173\n",
      "  (1999, 9781)\t0.28328286396117985\n",
      "  (1999, 8424)\t0.29561929186602465\n",
      "  (1999, 7654)\t0.3107956678918479\n",
      "  (1999, 5936)\t0.22565562204544284\n",
      "  (1999, 5722)\t0.3138713450443626\n",
      "  (1999, 4890)\t0.2149715154111688\n",
      "  (1999, 3368)\t0.16535124612089352\n",
      "  (1999, 2598)\t0.28245403515075074\n",
      "  (1999, 1052)\t0.29247596891737665\n",
      "  (1999, 758)\t0.42360438877411505\n",
      "  (1999, 151)\t0.40989448092633635\n"
     ]
    }
   ],
   "source": [
    "# Checking traing and test data \n",
    "print(X_train)\n",
    "print(X_test)"
   ]
  },
  {
   "cell_type": "markdown",
   "id": "850ceaae",
   "metadata": {},
   "source": [
    "Training the Machine Learning Model"
   ]
  },
  {
   "cell_type": "markdown",
   "id": "097dd278",
   "metadata": {},
   "source": [
    "Model 1 = Logistic Regression"
   ]
  },
  {
   "cell_type": "code",
   "execution_count": 70,
   "id": "81269efc",
   "metadata": {},
   "outputs": [
    {
     "name": "stdout",
     "output_type": "stream",
     "text": [
      "Accuracy Score of the Training data:  0.85625\n"
     ]
    }
   ],
   "source": [
    "from sklearn.linear_model import LogisticRegression\n",
    "from sklearn.metrics import accuracy_score\n",
    "Logistic_model = LogisticRegression(max_iter = 1000)\n",
    "Logistic_model.fit(X_train, y_train)\n",
    "\n",
    "# Model Evaluation\n",
    "# Training data evaluation\n",
    "Y_train_predict = Logistic_model.predict(X_train)\n",
    "Training_data_accuracy = accuracy_score(y_train, Y_train_predict)\n",
    "\n",
    "print('Accuracy Score of the Training data: ', Training_data_accuracy)"
   ]
  },
  {
   "cell_type": "code",
   "execution_count": 71,
   "id": "35d3cea9",
   "metadata": {},
   "outputs": [
    {
     "data": {
      "text/plain": [
       "array([0, 1, 0, ..., 1, 1, 1], dtype=int64)"
      ]
     },
     "execution_count": 71,
     "metadata": {},
     "output_type": "execute_result"
    }
   ],
   "source": [
    "Y_train_predict"
   ]
  },
  {
   "cell_type": "code",
   "execution_count": 72,
   "id": "78e18820",
   "metadata": {},
   "outputs": [
    {
     "name": "stdout",
     "output_type": "stream",
     "text": [
      "Accuracy Score of the testing data:  0.7385\n"
     ]
    }
   ],
   "source": [
    "# Test data evaluation\n",
    "Y_test_predict = Logistic_model.predict(X_test)\n",
    "Testing_data_accuracy = accuracy_score(y_test, Y_test_predict)\n",
    "\n",
    "print('Accuracy Score of the testing data: ', Testing_data_accuracy)"
   ]
  },
  {
   "cell_type": "code",
   "execution_count": 43,
   "id": "3ac33e6d",
   "metadata": {},
   "outputs": [
    {
     "data": {
      "text/plain": [
       "array([0, 0, 1, ..., 1, 0, 1], dtype=int64)"
      ]
     },
     "execution_count": 43,
     "metadata": {},
     "output_type": "execute_result"
    }
   ],
   "source": [
    "Y_test_predict"
   ]
  },
  {
   "cell_type": "code",
   "execution_count": 44,
   "id": "2282bd1b",
   "metadata": {},
   "outputs": [],
   "source": [
    "from sklearn.metrics import confusion_matrix, classification_report\n",
    "import matplotlib.pyplot as plt\n",
    "import numpy as np\n",
    "import seaborn as sns\n",
    "\n",
    "def model_Evaluate(model):\n",
    "# Training data evaluation\n",
    "    Y_train_predict = model.predict(X_train)\n",
    "    \n",
    "# Testing data evaluation\n",
    "    Y_test_predict = model.predict(X_test)\n",
    "    \n",
    "# Print the evaluation metrics for the dataset\n",
    "  #print(classification_report(y_test, Y_test_predict))\n",
    "    \n",
    "# Compute and plot the Confusion matrix\n",
    "    cf_matrix = confusion_matrix(y_test, Y_test_predict)\n",
    "    \n",
    "  #categories = ['Negative','Positive']\n",
    "  #group_names = ['True Neg','False Pos', 'False Neg','True Pos']\n",
    "  #group_percentages = ['{0:.2%}'.format(value) for value in cf_matrix.flatten() / np.sum(cf_matrix)]\n",
    "  #labels = [f'{v1}n{v2}' for v1, v2 in zip(group_names,group_percentages)]\n",
    "  #sns.heatmap(cf_matrix, annot = labels, cmap = 'Blues',fmt = '',\n",
    "  #xticklabels = categories, yticklabels = categories)\n",
    "  #plt.xlabel(\"Predicted values\", fontdict = {'size':14}, labelpad = 10)\n",
    "  #plt.ylabel(\"Actual values\" , fontdict = {'size':14}, labelpad = 10)\n",
    "  #plt.title (\"Confusion Matrix\", fontdict = {'size':18}, pad = 20)\n",
    "\n",
    " # Plot confusion matrix\n",
    "    plt.figure(figsize=(8, 6))\n",
    "    sns.heatmap(cf_matrix, annot=True, fmt='d', cmap='Blues', cbar=False)\n",
    "    plt.xlabel('Predicted labels')\n",
    "    plt.ylabel('True labels')\n",
    "    plt.title('Confusion Matrix')\n",
    "    plt.show()\n",
    "    \n",
    "    # Compute evaluation metrics\n",
    "    #report = classification_report(y_test, Y_test_predict)\n",
    "    report_dict = classification_report(y_test, Y_test_predict, output_dict=True)\n",
    "    report_df = pd.DataFrame(report_dict).transpose()\n",
    "    \n",
    "    return report_df\n",
    "    "
   ]
  },
  {
   "cell_type": "code",
   "execution_count": 45,
   "id": "aa497b72",
   "metadata": {},
   "outputs": [
    {
     "data": {
      "image/png": "[encoded data removed]",
      "text/plain": [
       "<Figure size 576x432 with 1 Axes>"
      ]
     },
     "metadata": {
      "needs_background": "light"
     },
     "output_type": "display_data"
    },
    {
     "data": {
      "text/html": [
       "<div>\n",
       "<style scoped>\n",
       "    .dataframe tbody tr th:only-of-type {\n",
       "        vertical-align: middle;\n",
       "    }\n",
       "\n",
       "    .dataframe tbody tr th {\n",
       "        vertical-align: top;\n",
       "    }\n",
       "\n",
       "    .dataframe thead th {\n",
       "        text-align: right;\n",
       "    }\n",
       "</style>\n",
       "<table border=\"1\" class=\"dataframe\">\n",
       "  <thead>\n",
       "    <tr style=\"text-align: right;\">\n",
       "      <th></th>\n",
       "      <th>precision</th>\n",
       "      <th>recall</th>\n",
       "      <th>f1-score</th>\n",
       "      <th>support</th>\n",
       "    </tr>\n",
       "  </thead>\n",
       "  <tbody>\n",
       "    <tr>\n",
       "      <th>0</th>\n",
       "      <td>0.740666</td>\n",
       "      <td>0.7340</td>\n",
       "      <td>0.737318</td>\n",
       "      <td>1000.0000</td>\n",
       "    </tr>\n",
       "    <tr>\n",
       "      <th>1</th>\n",
       "      <td>0.736373</td>\n",
       "      <td>0.7430</td>\n",
       "      <td>0.739671</td>\n",
       "      <td>1000.0000</td>\n",
       "    </tr>\n",
       "    <tr>\n",
       "      <th>accuracy</th>\n",
       "      <td>0.738500</td>\n",
       "      <td>0.7385</td>\n",
       "      <td>0.738500</td>\n",
       "      <td>0.7385</td>\n",
       "    </tr>\n",
       "    <tr>\n",
       "      <th>macro avg</th>\n",
       "      <td>0.738519</td>\n",
       "      <td>0.7385</td>\n",
       "      <td>0.738495</td>\n",
       "      <td>2000.0000</td>\n",
       "    </tr>\n",
       "    <tr>\n",
       "      <th>weighted avg</th>\n",
       "      <td>0.738519</td>\n",
       "      <td>0.7385</td>\n",
       "      <td>0.738495</td>\n",
       "      <td>2000.0000</td>\n",
       "    </tr>\n",
       "  </tbody>\n",
       "</table>\n",
       "</div>"
      ],
      "text/plain": [
       "              precision  recall  f1-score    support\n",
       "0              0.740666  0.7340  0.737318  1000.0000\n",
       "1              0.736373  0.7430  0.739671  1000.0000\n",
       "accuracy       0.738500  0.7385  0.738500     0.7385\n",
       "macro avg      0.738519  0.7385  0.738495  2000.0000\n",
       "weighted avg   0.738519  0.7385  0.738495  2000.0000"
      ]
     },
     "execution_count": 45,
     "metadata": {},
     "output_type": "execute_result"
    }
   ],
   "source": [
    "model_Evaluate(Logistic_model)"
   ]
  },
  {
   "cell_type": "markdown",
   "id": "e72b48e5",
   "metadata": {},
   "source": [
    "Model 2 = Bernoulli Naive Bayes Classifier"
   ]
  },
  {
   "cell_type": "code",
   "execution_count": 51,
   "id": "f72882b3",
   "metadata": {},
   "outputs": [
    {
     "name": "stdout",
     "output_type": "stream",
     "text": [
      "Accuracy Score of the Training data:  0.880625\n",
      "Accuracy Score of the testing data:  0.7255\n"
     ]
    },
    {
     "data": {
      "image/png": "[encoded data removed]",
      "text/plain": [
       "<Figure size 576x432 with 1 Axes>"
      ]
     },
     "metadata": {
      "needs_background": "light"
     },
     "output_type": "display_data"
    },
    {
     "data": {
      "text/html": [
       "<div>\n",
       "<style scoped>\n",
       "    .dataframe tbody tr th:only-of-type {\n",
       "        vertical-align: middle;\n",
       "    }\n",
       "\n",
       "    .dataframe tbody tr th {\n",
       "        vertical-align: top;\n",
       "    }\n",
       "\n",
       "    .dataframe thead th {\n",
       "        text-align: right;\n",
       "    }\n",
       "</style>\n",
       "<table border=\"1\" class=\"dataframe\">\n",
       "  <thead>\n",
       "    <tr style=\"text-align: right;\">\n",
       "      <th></th>\n",
       "      <th>precision</th>\n",
       "      <th>recall</th>\n",
       "      <th>f1-score</th>\n",
       "      <th>support</th>\n",
       "    </tr>\n",
       "  </thead>\n",
       "  <tbody>\n",
       "    <tr>\n",
       "      <th>0</th>\n",
       "      <td>0.726179</td>\n",
       "      <td>0.7240</td>\n",
       "      <td>0.725088</td>\n",
       "      <td>1000.0000</td>\n",
       "    </tr>\n",
       "    <tr>\n",
       "      <th>1</th>\n",
       "      <td>0.724826</td>\n",
       "      <td>0.7270</td>\n",
       "      <td>0.725911</td>\n",
       "      <td>1000.0000</td>\n",
       "    </tr>\n",
       "    <tr>\n",
       "      <th>accuracy</th>\n",
       "      <td>0.725500</td>\n",
       "      <td>0.7255</td>\n",
       "      <td>0.725500</td>\n",
       "      <td>0.7255</td>\n",
       "    </tr>\n",
       "    <tr>\n",
       "      <th>macro avg</th>\n",
       "      <td>0.725502</td>\n",
       "      <td>0.7255</td>\n",
       "      <td>0.725499</td>\n",
       "      <td>2000.0000</td>\n",
       "    </tr>\n",
       "    <tr>\n",
       "      <th>weighted avg</th>\n",
       "      <td>0.725502</td>\n",
       "      <td>0.7255</td>\n",
       "      <td>0.725499</td>\n",
       "      <td>2000.0000</td>\n",
       "    </tr>\n",
       "  </tbody>\n",
       "</table>\n",
       "</div>"
      ],
      "text/plain": [
       "              precision  recall  f1-score    support\n",
       "0              0.726179  0.7240  0.725088  1000.0000\n",
       "1              0.724826  0.7270  0.725911  1000.0000\n",
       "accuracy       0.725500  0.7255  0.725500     0.7255\n",
       "macro avg      0.725502  0.7255  0.725499  2000.0000\n",
       "weighted avg   0.725502  0.7255  0.725499  2000.0000"
      ]
     },
     "execution_count": 51,
     "metadata": {},
     "output_type": "execute_result"
    }
   ],
   "source": [
    "# import lableries\n",
    "from sklearn.naive_bayes import BernoulliNB\n",
    "BNB_model = BernoulliNB()\n",
    "BNB_model.fit(X_train, y_train)\n",
    "\n",
    "# Model Evaluation\n",
    "# Training data evaluation\n",
    "Y_train_predict = BNB_model.predict(X_train)\n",
    "Training_data_accuracy = accuracy_score(y_train, Y_train_predict)\n",
    "\n",
    "print('Accuracy Score of the Training data: ', Training_data_accuracy)\n",
    "\n",
    "# Test data evaluation\n",
    "Y_test_predict = BNB_model.predict(X_test)\n",
    "Testing_data_accuracy = accuracy_score(y_test, Y_test_predict)\n",
    "\n",
    "print('Accuracy Score of the testing data: ', Testing_data_accuracy)\n",
    "\n",
    "model_Evaluate(BNB_model)"
   ]
  },
  {
   "cell_type": "markdown",
   "id": "9d464e73",
   "metadata": {},
   "source": [
    "Model 3 = SVM (Support Vector Machine)"
   ]
  },
  {
   "cell_type": "code",
   "execution_count": 52,
   "id": "403deada",
   "metadata": {},
   "outputs": [
    {
     "name": "stderr",
     "output_type": "stream",
     "text": [
      "C:\\Users\\Admin\\anaconda3\\lib\\site-packages\\sklearn\\svm\\_classes.py:32: FutureWarning: The default value of `dual` will change from `True` to `'auto'` in 1.5. Set the value of `dual` explicitly to suppress the warning.\n",
      "  warnings.warn(\n"
     ]
    },
    {
     "name": "stdout",
     "output_type": "stream",
     "text": [
      "Accuracy Score of the Training data:  0.950375\n",
      "Accuracy Score of the testing data:  0.7205\n"
     ]
    },
    {
     "data": {
      "image/png": "[encoded data removed]",
      "text/plain": [
       "<Figure size 576x432 with 1 Axes>"
      ]
     },
     "metadata": {
      "needs_background": "light"
     },
     "output_type": "display_data"
    },
    {
     "data": {
      "text/html": [
       "<div>\n",
       "<style scoped>\n",
       "    .dataframe tbody tr th:only-of-type {\n",
       "        vertical-align: middle;\n",
       "    }\n",
       "\n",
       "    .dataframe tbody tr th {\n",
       "        vertical-align: top;\n",
       "    }\n",
       "\n",
       "    .dataframe thead th {\n",
       "        text-align: right;\n",
       "    }\n",
       "</style>\n",
       "<table border=\"1\" class=\"dataframe\">\n",
       "  <thead>\n",
       "    <tr style=\"text-align: right;\">\n",
       "      <th></th>\n",
       "      <th>precision</th>\n",
       "      <th>recall</th>\n",
       "      <th>f1-score</th>\n",
       "      <th>support</th>\n",
       "    </tr>\n",
       "  </thead>\n",
       "  <tbody>\n",
       "    <tr>\n",
       "      <th>0</th>\n",
       "      <td>0.722054</td>\n",
       "      <td>0.7170</td>\n",
       "      <td>0.719518</td>\n",
       "      <td>1000.0000</td>\n",
       "    </tr>\n",
       "    <tr>\n",
       "      <th>1</th>\n",
       "      <td>0.718967</td>\n",
       "      <td>0.7240</td>\n",
       "      <td>0.721475</td>\n",
       "      <td>1000.0000</td>\n",
       "    </tr>\n",
       "    <tr>\n",
       "      <th>accuracy</th>\n",
       "      <td>0.720500</td>\n",
       "      <td>0.7205</td>\n",
       "      <td>0.720500</td>\n",
       "      <td>0.7205</td>\n",
       "    </tr>\n",
       "    <tr>\n",
       "      <th>macro avg</th>\n",
       "      <td>0.720511</td>\n",
       "      <td>0.7205</td>\n",
       "      <td>0.720497</td>\n",
       "      <td>2000.0000</td>\n",
       "    </tr>\n",
       "    <tr>\n",
       "      <th>weighted avg</th>\n",
       "      <td>0.720511</td>\n",
       "      <td>0.7205</td>\n",
       "      <td>0.720497</td>\n",
       "      <td>2000.0000</td>\n",
       "    </tr>\n",
       "  </tbody>\n",
       "</table>\n",
       "</div>"
      ],
      "text/plain": [
       "              precision  recall  f1-score    support\n",
       "0              0.722054  0.7170  0.719518  1000.0000\n",
       "1              0.718967  0.7240  0.721475  1000.0000\n",
       "accuracy       0.720500  0.7205  0.720500     0.7205\n",
       "macro avg      0.720511  0.7205  0.720497  2000.0000\n",
       "weighted avg   0.720511  0.7205  0.720497  2000.0000"
      ]
     },
     "execution_count": 52,
     "metadata": {},
     "output_type": "execute_result"
    }
   ],
   "source": [
    "# import lableries\n",
    "from sklearn.svm import LinearSVC\n",
    "SVC_model = LinearSVC()\n",
    "SVC_model.fit(X_train, y_train)\n",
    "\n",
    "# Model Evaluation\n",
    "# Training data evaluation\n",
    "Y_train_predict = SVC_model.predict(X_train)\n",
    "Training_data_accuracy = accuracy_score(y_train, Y_train_predict)\n",
    "\n",
    "print('Accuracy Score of the Training data: ', Training_data_accuracy)\n",
    "\n",
    "# Test data evaluation\n",
    "Y_test_predict = SVC_model.predict(X_test)\n",
    "Testing_data_accuracy = accuracy_score(y_test, Y_test_predict)\n",
    "\n",
    "print('Accuracy Score of the testing data: ', Testing_data_accuracy)\n",
    "\n",
    "model_Evaluate(SVC_model)"
   ]
  }
 ],
 "metadata": {
  "kernelspec": {
   "display_name": "Python 3 (ipykernel)",
   "language": "python",
   "name": "python3"
  },
  "language_info": {
   "codemirror_mode": {
    "name": "ipython",
    "version": 3
   },
   "file_extension": ".py",
   "mimetype": "text/x-python",
   "name": "python",
   "nbconvert_exporter": "python",
   "pygments_lexer": "ipython3",
   "version": "3.11.4"
  }
 },
 "nbformat": 4,
 "nbformat_minor": 5
}
